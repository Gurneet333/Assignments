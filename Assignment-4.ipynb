{
 "cells": [
  {
   "cell_type": "markdown",
   "metadata": {},
   "source": [
    "## Assignemnt - 4"
   ]
  },
  {
   "cell_type": "markdown",
   "metadata": {},
   "source": [
    "1.1 Write a Python Program(with class concepts) to find the area of the triangle using the below\n",
    "formula.\n",
    "area = (s*(s-a)*(s-b)*(s-c)) ** 0.5\n",
    "Function to take the length of the sides of triangle from user should be defined in the parent\n",
    "class and function to calculate the area should be defined in subclass."
   ]
  },
  {
   "cell_type": "code",
   "execution_count": 15,
   "metadata": {},
   "outputs": [
    {
     "name": "stdout",
     "output_type": "stream",
     "text": [
      "Enter the length of first side:3\n",
      "Enter the length of second side:3\n",
      "Enter the length of third side:5\n",
      "4.14578098794425\n"
     ]
    }
   ],
   "source": [
    "class Sides:\n",
    "    def __init__(self):\n",
    "        a=int(input(\"Enter the length of first side:\"))\n",
    "        b=int(input(\"Enter the length of second side:\"))\n",
    "        c=int(input(\"Enter the length of third side:\"))\n",
    "        self.a=a\n",
    "        self.b=b\n",
    "        self.c=c\n",
    "        \n",
    "class Area(Sides):\n",
    "    def __init__(self,*args):\n",
    "        super(Area,self).__init__(*args)\n",
    "    \n",
    "    def areaa(self):\n",
    "        s=(self.a+self.b+self.c)/2\n",
    "        area=(s*(s-self.a)*(s-self.b)*(s-self.c)) ** 0.5\n",
    "        return area\n",
    "        \n",
    "t=Area()\n",
    "print(t.areaa())\n",
    "\n",
    "\n",
    "\n",
    "\n",
    "        "
   ]
  },
  {
   "cell_type": "markdown",
   "metadata": {},
   "source": [
    "\n",
    "\n"
   ]
  },
  {
   "cell_type": "markdown",
   "metadata": {},
   "source": [
    "1.2 Write a function filter_long_words() that takes a list of words and an integer n and returns\n",
    "the list of words that are longer than n."
   ]
  },
  {
   "cell_type": "code",
   "execution_count": 17,
   "metadata": {},
   "outputs": [
    {
     "name": "stdout",
     "output_type": "stream",
     "text": [
      "Enter the list of words: Good Morning Data Science Engineer Scientist Analyst Roles\n",
      "Enter an integer value: 6\n",
      "Words whose length is longer than  6 are:  ['Morning', 'Science', 'Engineer', 'Scientist', 'Analyst']\n"
     ]
    }
   ],
   "source": [
    "def filter_long_words(l,n):\n",
    "    longer=[]\n",
    "    for i in l:\n",
    "        if(len(i) > n):\n",
    "            longer.append(i)\n",
    "    return longer\n",
    "\n",
    "words_list=input(\"Enter the list of words: \").split()\n",
    "n=int(input(\"Enter an integer value: \"))\n",
    "k=filter_long_words(words_list,n)\n",
    "print(\"Words whose length is longer than \",n,\"are: \",k)\n"
   ]
  },
  {
   "cell_type": "markdown",
   "metadata": {},
   "source": [
    "  "
   ]
  },
  {
   "cell_type": "markdown",
   "metadata": {},
   "source": [
    "2.1 Write a Python program using function concept that maps list of words into a list of integers\n",
    "representing the lengths of the corresponding words. <br>\n",
    "Hint: If a list [ ab,cde,erty] is passed on to the python function output should come as [2,3,4]\n",
    "Here 2,3 and 4 are the lengths of the words in the list."
   ]
  },
  {
   "cell_type": "code",
   "execution_count": 18,
   "metadata": {},
   "outputs": [
    {
     "name": "stdout",
     "output_type": "stream",
     "text": [
      "Enter the list of words: a aa bbb cccc dddd\n",
      "Integer mapping of given words:  [1, 2, 3, 4, 4]\n"
     ]
    }
   ],
   "source": [
    "def length_of_words(l):\n",
    "    length=[]\n",
    "    for i in l:\n",
    "        length.append(len(i))\n",
    "    return length\n",
    "\n",
    "words=input(\"Enter the list of words: \").split()\n",
    "listt=length_of_words(words)\n",
    "print(\"Integer mapping of given words: \",listt)\n"
   ]
  },
  {
   "cell_type": "markdown",
   "metadata": {},
   "source": [
    "  "
   ]
  },
  {
   "cell_type": "markdown",
   "metadata": {},
   "source": [
    "2.2 Write a Python function which takes a character (i.e. a string of length 1) and returns True if\n",
    "it is a vowel, False otherwise."
   ]
  },
  {
   "cell_type": "code",
   "execution_count": 19,
   "metadata": {},
   "outputs": [
    {
     "name": "stdout",
     "output_type": "stream",
     "text": [
      "True\n",
      "False\n",
      "True\n",
      "False\n",
      "False\n",
      "True\n"
     ]
    }
   ],
   "source": [
    "def vowel(character):\n",
    "    if character.lower() in ['a','i','e','o','u']:\n",
    "        return True\n",
    "    else:\n",
    "        return False\n",
    "\n",
    "charr=vowel('A')\n",
    "print(charr)\n",
    "print(vowel('t'))\n",
    "print(vowel('o'))\n",
    "print(vowel('z'))\n",
    "print(vowel('x'))\n",
    "print(vowel('U'))"
   ]
  },
  {
   "cell_type": "code",
   "execution_count": null,
   "metadata": {},
   "outputs": [],
   "source": []
  }
 ],
 "metadata": {
  "kernelspec": {
   "display_name": "Python 3",
   "language": "python",
   "name": "python3"
  },
  "language_info": {
   "codemirror_mode": {
    "name": "ipython",
    "version": 3
   },
   "file_extension": ".py",
   "mimetype": "text/x-python",
   "name": "python",
   "nbconvert_exporter": "python",
   "pygments_lexer": "ipython3",
   "version": "3.7.6"
  }
 },
 "nbformat": 4,
 "nbformat_minor": 4
}
